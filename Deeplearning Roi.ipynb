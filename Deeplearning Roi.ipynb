{
 "cells": [
  {
   "cell_type": "code",
   "execution_count": 10,
   "metadata": {},
   "outputs": [
    {
     "name": "stdout",
     "output_type": "stream",
     "text": [
      "Data were split up to parts. Start multiprocessing.\n"
     ]
    }
   ],
   "source": [
    "import clean_raw_data as clean\n",
    "\n",
    "source = 'C:/Users/Ede/Documents/Iskola/onw_hear/root'\n",
    "target = 'C:/Users/Ede/Documents/Iskola/onw_hear/root/cleaned_data'\n",
    "crd = clean.CleanRawData(source, target, 4)\n",
    "crd.create_folder_chunks()\n",
    "print(\"Data were split up to parts. Start multiprocessing.\")\n",
    "lock = clean.Lock()\n",
    "for p in range(crd.thread_num):\n",
    "    fn = crd.clean_data\n",
    "    args = [(lock, crd.new_roots[i], (crd.file_statistic[0][i], crd.file_statistic[1][i])) for i in range(crd.thread_num)]\n",
    "    clean.Process(target=fn, args=(args[p],)).start()\n"
   ]
  },
  {
   "cell_type": "code",
   "execution_count": 5,
   "metadata": {},
   "outputs": [],
   "source": [
    "import numpy as np\n",
    "import png\n",
    "import pydicom\n",
    "from sklearn.preprocessing import normalize\n",
    "\n",
    "from os import listdir\n",
    "from os.path import isfile, join\n",
    "import os\n",
    "import torch\n",
    "import torch.nn as nn\n"
   ]
  },
  {
   "cell_type": "code",
   "execution_count": null,
   "metadata": {},
   "outputs": [],
   "source": [
    "model = nn.Sequential(nn.Linear(n_in, n_h),\n",
    "                     nn.ReLU(),\n",
    "                     nn.Linear(n_h, n_out),\n",
    "                     nn.Sigmoid())\n",
    "criterion = torch.nn.MSELoss()\n",
    "optimizer = torch.optim.SGD(model.parameters(), lr=0.1)\n",
    "for epoch in range(50):\n",
    "    # Forward Propagation\n",
    "    y_pred = model(x)\n",
    "    # Compute and print loss\n",
    "    loss = criterion(y_pred, y)\n",
    "    print('epoch: ', epoch,' loss: ', loss.item())\n",
    "    # Zero the gradients\n",
    "    optimizer.zero_grad()\n",
    "    \n",
    "    # perform a backward pass (backpropagation)\n",
    "    loss.backward()\n",
    "    \n",
    "    # Update the parameters\n",
    "    optimizer.step()"
   ]
  },
  {
   "cell_type": "code",
   "execution_count": 84,
   "metadata": {},
   "outputs": [],
   "source": [
    "imgs = load_image('./root/cleaned_data/img_0_22.png')"
   ]
  },
  {
   "cell_type": "code",
   "execution_count": 21,
   "metadata": {},
   "outputs": [
    {
     "name": "stdout",
     "output_type": "stream",
     "text": [
      "0 torch.Size([1, 1, 64, 64]) torch.Size([1])\n",
      "tensor([[[[ 0.0000,  0.0000,  0.0000,  ..., -0.7086, -0.5740, -0.4688],\n",
      "          [ 0.0000,  0.0000,  0.0000,  ..., -0.7086, -0.5740, -0.4688],\n",
      "          [ 0.0000,  0.0000,  0.0000,  ..., -0.7086, -0.5740, -0.4688],\n",
      "          ...,\n",
      "          [ 0.0000,  0.0000,  0.0000,  ..., -0.7086, -0.5740, -0.4688],\n",
      "          [ 0.0000,  0.0000,  0.0000,  ..., -0.7086, -0.5740, -0.4688],\n",
      "          [ 0.0000,  0.0000,  0.0000,  ..., -0.7086, -0.5740, -0.4688]]]],\n",
      "       dtype=torch.float64)\n"
     ]
    }
   ],
   "source": [
    "roi = RoiLearn()\n",
    "preprocessor = Preprocessor()\n",
    "\n",
    "dataLoader = preprocessor.create_datasetLoaderDCM('./root')\n",
    "preprocessor.show_some_loadedData()\n",
    "\n",
    "roi.build_model()\n",
    "\n",
    "roi.propagate_from_dataLoader(dataLoader)\n",
    "#y_pred = roi.propagate().detach().numpy()\n",
    "#save_image(y_pred[0,0,:,:]*255, 'pred.png')"
   ]
  },
  {
   "cell_type": "code",
   "execution_count": 19,
   "metadata": {},
   "outputs": [],
   "source": [
    "class Flatten(nn.Module):\n",
    "    def forward(self, input):\n",
    "        return input.view(input.size(0), -1)\n",
    "\n",
    "class RoiLearn:\n",
    "    def __init__(self):\n",
    "        torch.manual_seed(12)\n",
    "        self.conv1 = nn.Conv2d(1,100, (11,11))\n",
    "        self.sigmoid = nn.Sigmoid()\n",
    "        self.relu = nn.ReLU()\n",
    "        self.avgpool = nn.AvgPool2d(6)\n",
    "        self.flatten = Flatten()\n",
    "        self.full = nn.Linear(8100,1024)\n",
    "            \n",
    "    def build_model(self):\n",
    "        self.model = nn.Sequential(self.conv1,\n",
    "                            self.avgpool,\n",
    "                            self.relu,\n",
    "                            self.flatten,\n",
    "                            self.full,\n",
    "                            self.sigmoid\n",
    "                            )\n",
    "        self.model = self.model.double()\n",
    "    \n",
    "    def propagate_from_dataLoader(self,dl):\n",
    "        for i_batch, sample_batched in enumerate(dl):\n",
    "            self.model(sample_batched[0])\n",
    "        \n",
    "    def propagate(self):\n",
    "        return self.model(self.x)\n",
    "    \n",
    "    def save_image( self,npdata, outfilename ) :\n",
    "        img = Image.fromarray( np.asarray( np.clip(npdata,0,255), dtype=\"uint8\"), \"L\" )\n",
    "        img.save( outfilename )"
   ]
  },
  {
   "cell_type": "code",
   "execution_count": 13,
   "metadata": {},
   "outputs": [],
   "source": [
    "from PIL import Image\n",
    "import pydicom as dicom\n",
    "from sklearn.preprocessing import StandardScaler\n",
    "import numpy as np\n",
    "import torchvision.datasets as ds\n",
    "\n",
    "\n",
    "class Preprocessor:\n",
    "    def __init__(self):\n",
    "        self.data = None\n",
    "        self.scaler = StandardScaler()\n",
    "    \n",
    "    def preprocess_img(self,img):\n",
    "        img = img.resize((64,64),Image.ANTIALIAS)\n",
    "        img = img.convert('LA')\n",
    "        data = np.asarray( img, dtype=\"float\" )[:,:,:1]\n",
    "        data = np.swapaxes(data, 0, 2)\n",
    "        data[0] = self.scaler.fit_transform(data[0])\n",
    "        return data\n",
    "    \n",
    "    def preprocess_dcm(self,img):\n",
    "        img = Image.fromarray(img)\n",
    "        img = img.convert('L')\n",
    "        img = img.resize((64,64),Image.ANTIALIAS)\n",
    "        img = img.convert('LA')\n",
    "        data = np.asarray( img, dtype=\"float\" )[:,:,:1]\n",
    "        #channel - height swap\n",
    "        data = np.swapaxes(data, 0, 2)\n",
    "        data = np.swapaxes(data, 1, 2)\n",
    "        data[0] = self.scaler.fit_transform(data[0])\n",
    "        return data\n",
    "    \n",
    "    def load_image(self, infilename ):\n",
    "        img = Image.open( infilename )\n",
    "        img.load()\n",
    "        return img\n",
    "    \n",
    "    def load_dcm(self,infilename):\n",
    "        temp_ds = dicom.dcmread(infilename).pixel_array\n",
    "        return temp_ds\n",
    "    \n",
    "    def create_datasetLoaderPNG(self, folder):\n",
    "        dataset = ds.DatasetFolder(folder, self.load_image, ['.png'], self.preprocess_img)\n",
    "        self.data = torch.utils.data.DataLoader(dataset)\n",
    "        return self.data\n",
    "    \n",
    "    def create_datasetLoaderDCM(self, folder):\n",
    "        dataset = ds.DatasetFolder(folder, self.load_dcm, ['.dcm'], self.preprocess_dcm)\n",
    "        self.data = torch.utils.data.DataLoader(dataset)\n",
    "        return self.data\n",
    "    \n",
    "    def get_dataLoader(self):\n",
    "        return self.data\n",
    "    \n",
    "    def show_some_loadedData(self):\n",
    "        if (self.data == None):\n",
    "            return\n",
    "        for i_batch, sample_batched in enumerate(self.data):\n",
    "            print(i_batch, sample_batched[0].size(),sample_batched[1].size())\n",
    "            print(sample_batched[0])\n",
    "            break"
   ]
  }
 ],
 "metadata": {
  "kernelspec": {
   "display_name": "pytorch",
   "language": "python",
   "name": "pytorch"
  },
  "language_info": {
   "codemirror_mode": {
    "name": "ipython",
    "version": 3
   },
   "file_extension": ".py",
   "mimetype": "text/x-python",
   "name": "python",
   "nbconvert_exporter": "python",
   "pygments_lexer": "ipython3",
   "version": "3.6.5"
  }
 },
 "nbformat": 4,
 "nbformat_minor": 2
}
